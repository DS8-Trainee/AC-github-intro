{
  "nbformat": 4,
  "nbformat_minor": 0,
  "metadata": {
    "colab": {
      "provenance": [],
      "authorship_tag": "ABX9TyM6Yqi+GcORIJeg7k23u0bV",
      "include_colab_link": true
    },
    "kernelspec": {
      "name": "python3",
      "display_name": "Python 3"
    },
    "language_info": {
      "name": "python"
    }
  },
  "cells": [
    {
      "cell_type": "markdown",
      "metadata": {
        "id": "view-in-github",
        "colab_type": "text"
      },
      "source": [
        "<a href=\"https://colab.research.google.com/github/DS8-Trainee/AC-github-intro/blob/main/Assignment1(Sidra_Tul_Muntaha_DS8_Red).ipynb\" target=\"_parent\"><img src=\"https://colab.research.google.com/assets/colab-badge.svg\" alt=\"Open In Colab\"/></a>"
      ]
    },
    {
      "cell_type": "code",
      "execution_count": null,
      "metadata": {
        "colab": {
          "base_uri": "https://localhost:8080/"
        },
        "id": "Oe6k_0z7dfc1",
        "outputId": "eeb96b27-16b5-4412-db74-7435585d72c8"
      },
      "outputs": [
        {
          "output_type": "stream",
          "name": "stdout",
          "text": [
            "10\n"
          ]
        }
      ],
      "source": [
        "x=int(10)\n",
        "x=10 # x is an int variable\n",
        "print(x)"
      ]
    },
    {
      "cell_type": "code",
      "source": [
        "y=str(20)\n",
        "y=\"Munhammad\" # y is a string variable\n",
        "print(y)"
      ],
      "metadata": {
        "colab": {
          "base_uri": "https://localhost:8080/"
        },
        "id": "MnK7pUJMeZEg",
        "outputId": "897d2ba8-cb2d-4af0-b5d5-193a7d234ba9"
      },
      "execution_count": null,
      "outputs": [
        {
          "output_type": "stream",
          "name": "stdout",
          "text": [
            "Munhammad\n"
          ]
        }
      ]
    },
    {
      "cell_type": "code",
      "source": [
        "print(x+10)\n",
        "print(y+\" \"+\"Smith\")"
      ],
      "metadata": {
        "colab": {
          "base_uri": "https://localhost:8080/"
        },
        "id": "REPez0P1g59C",
        "outputId": "301a5f8b-c18a-4276-ffd0-341ec2eae85c"
      },
      "execution_count": null,
      "outputs": [
        {
          "output_type": "stream",
          "name": "stdout",
          "text": [
            "20\n",
            "Munhammad Smith\n"
          ]
        }
      ]
    },
    {
      "cell_type": "markdown",
      "source": [
        "Task 2: Expressions and Operators\n"
      ],
      "metadata": {
        "id": "tNmlhFwaieCk"
      }
    },
    {
      "cell_type": "code",
      "source": [
        "is_student = True\n",
        "print(\"is Student:\", is_student)"
      ],
      "metadata": {
        "colab": {
          "base_uri": "https://localhost:8080/"
        },
        "id": "fEFXPn2XJDjT",
        "outputId": "7e083aea-da84-4f73-ecb9-87fda5876dac"
      },
      "execution_count": null,
      "outputs": [
        {
          "output_type": "stream",
          "name": "stdout",
          "text": [
            "is Student: True\n"
          ]
        }
      ]
    },
    {
      "cell_type": "code",
      "source": [
        "is_student = not is_student\n",
        "print(\"is Student:\", is_student)"
      ],
      "metadata": {
        "id": "F-i8gyPpJUNe",
        "colab": {
          "base_uri": "https://localhost:8080/"
        },
        "outputId": "11d755dc-e667-43ec-f694-29c5838d8e2c"
      },
      "execution_count": null,
      "outputs": [
        {
          "output_type": "stream",
          "name": "stdout",
          "text": [
            "is Student: False\n"
          ]
        }
      ]
    },
    {
      "cell_type": "markdown",
      "source": [
        "a) A rectangle has a width of 5.5 units and a height of 3.25 units. Store width and height in variables. Create a new variable called area and write an expression to calculate the area. Print the area in the output"
      ],
      "metadata": {
        "id": "05z_L0LPipYX"
      }
    },
    {
      "cell_type": "code",
      "source": [
        "w=5.5\n",
        "h=3.25\n",
        "area=w*h# Formula of area of retangle\n",
        "print(area)"
      ],
      "metadata": {
        "colab": {
          "base_uri": "https://localhost:8080/"
        },
        "id": "q4ZuYHJ-if8g",
        "outputId": "aaf7c65e-74bb-405c-8dcc-1c69abed2b60"
      },
      "execution_count": null,
      "outputs": [
        {
          "output_type": "stream",
          "name": "stdout",
          "text": [
            "17.875\n"
          ]
        }
      ]
    },
    {
      "cell_type": "markdown",
      "source": [
        "b) Take temperature input from user in Celsius. Convert it to Fahrenheit using the formula:\n",
        "F = (C * 9/5) + 32\n",
        "Store this temperature in a variable called Fahrenheit and print this variable.\n",
        "\n"
      ],
      "metadata": {
        "id": "tuufhKpJjIGn"
      }
    },
    {
      "cell_type": "code",
      "source": [
        "Tc=float(input(\"Please enter temperature in celsius: \"))\n",
        "Tf=(Tc*9/5)+32 # Formula for C to F conversion\n",
        "print(Tf)\n"
      ],
      "metadata": {
        "colab": {
          "base_uri": "https://localhost:8080/"
        },
        "id": "vU1yLBybjOl8",
        "outputId": "3c969c5b-ce06-42a1-b386-f8d93dc43697"
      },
      "execution_count": null,
      "outputs": [
        {
          "output_type": "stream",
          "name": "stdout",
          "text": [
            "Please enter temperature in celsius: 55\n",
            "131.0\n"
          ]
        }
      ]
    },
    {
      "cell_type": "markdown",
      "source": [
        "c)Take radius of the circle as input from user. Calculate the area of a circle with this radius and store it in a variable called area. Print area at the end of your code.\n",
        "(Use the formula: area = π * radius^2, where π (pi) is approximately 3.14159).\n"
      ],
      "metadata": {
        "id": "CddnJhfIks4a"
      }
    },
    {
      "cell_type": "code",
      "source": [
        "r=float(input(\"Please enter radius: \"))\n",
        "area=3.14159*r**2\n",
        "print(area)"
      ],
      "metadata": {
        "colab": {
          "base_uri": "https://localhost:8080/"
        },
        "id": "QtdEJ84bkuAN",
        "outputId": "2d6f50bf-0dcd-4900-e3ae-3cf9c482d47b"
      },
      "execution_count": null,
      "outputs": [
        {
          "output_type": "stream",
          "name": "stdout",
          "text": [
            "Please enter radius: 9\n",
            "254.46878999999998\n"
          ]
        }
      ]
    },
    {
      "cell_type": "markdown",
      "source": [
        "Task 3: List Manipulation\n",
        "a) Create a list called \"fruits\" containing the following fruits: \"apple\", \"banana\", \"cherry\", \"date\", \"strawberry\", \"fig\", and \"grape\". Print the list.\n",
        "\n",
        "\n"
      ],
      "metadata": {
        "id": "V28LJ32clmGV"
      }
    },
    {
      "cell_type": "markdown",
      "source": [
        "1. Remove the first and last elements from the \"fruits\" list. Print the updated list."
      ],
      "metadata": {
        "id": "m54g__ghlsuK"
      }
    },
    {
      "cell_type": "code",
      "source": [
        "Fruits=[\"apple\", \"banana\", \"cherry\", \"date\", \"strawberry\", \"fig\", \"grape\"]\n",
        "Fruits.pop(0)\n",
        "Fruits.pop(-1)\n",
        "print(Fruits)"
      ],
      "metadata": {
        "colab": {
          "base_uri": "https://localhost:8080/"
        },
        "id": "jTJpvMW4lwya",
        "outputId": "4dd0aedc-7681-48dd-8110-c2a67ab133c2"
      },
      "execution_count": null,
      "outputs": [
        {
          "output_type": "stream",
          "name": "stdout",
          "text": [
            "['banana', 'cherry', 'date', 'strawberry', 'fig']\n"
          ]
        }
      ]
    },
    {
      "cell_type": "markdown",
      "source": [
        "### 2.** Replace the second to fourth items with [\"kiwi\", \"lemon\", \"mango\"] using list slicing**"
      ],
      "metadata": {
        "id": "lXo-Wia9mUmq"
      }
    },
    {
      "cell_type": "code",
      "source": [
        "Fruits=[\"apple\", \"banana\", \"cherry\", \"date\", \"strawberry\", \"fig\", \"grape\"]\n",
        "print(Fruits)"
      ],
      "metadata": {
        "colab": {
          "base_uri": "https://localhost:8080/"
        },
        "id": "6qBTer0jrVcB",
        "outputId": "6b91b716-a1b8-403f-9e55-d2a2f5372d4e"
      },
      "execution_count": null,
      "outputs": [
        {
          "output_type": "stream",
          "name": "stdout",
          "text": [
            "['apple', 'banana', 'cherry', 'date', 'strawberry', 'fig', 'grape']\n"
          ]
        }
      ]
    },
    {
      "cell_type": "code",
      "source": [
        "Fruits=[\"apple\", \"banana\", \"cherry\", \"date\", \"strawberry\", \"fig\", \"grape\"]\n",
        "Fruits[1:4]=[\"kiwi\", \"lemon\", \"mango\"]\n",
        "print(Fruits)"
      ],
      "metadata": {
        "colab": {
          "base_uri": "https://localhost:8080/"
        },
        "id": "KGdXl9KcmYiD",
        "outputId": "d7f9fdf2-a46a-4c41-a71e-7cab2e81de0a"
      },
      "execution_count": null,
      "outputs": [
        {
          "output_type": "stream",
          "name": "stdout",
          "text": [
            "['apple', 'kiwi', 'lemon', 'mango', 'strawberry', 'fig', 'grape']\n"
          ]
        }
      ]
    },
    {
      "cell_type": "markdown",
      "source": [
        "3. Use the len() function to find how many fruits are in the list.\n"
      ],
      "metadata": {
        "id": "GwQ3qFDCnJke"
      }
    },
    {
      "cell_type": "code",
      "source": [
        "Fruits=[\"apple\", \"banana\", \"cherry\", \"date\", \"strawberry\", \"fig\", \"grape\"]\n",
        "print(len(Fruits))"
      ],
      "metadata": {
        "colab": {
          "base_uri": "https://localhost:8080/"
        },
        "id": "HP6-3SJLnK-p",
        "outputId": "6701d73f-0c2b-4b1c-e372-c749edc78493"
      },
      "execution_count": null,
      "outputs": [
        {
          "output_type": "stream",
          "name": "stdout",
          "text": [
            "7\n"
          ]
        }
      ]
    },
    {
      "cell_type": "markdown",
      "source": [
        "**Task 4: Dictionary Operations**"
      ],
      "metadata": {
        "id": "sUhcc40VnaPH"
      }
    },
    {
      "cell_type": "markdown",
      "source": [
        "a) Create a dictionary named \"capitals\" with three key-value pairs: \"USA\" - \"Washington D.C.,\" \"France\" - \"Paris,\" and \"Japan\" - \"Tokyo.\" Print the dictionary.\n"
      ],
      "metadata": {
        "id": "tFI9m-l5neXb"
      }
    },
    {
      "cell_type": "code",
      "source": [
        "capitals={\"USA\":\"Washington D.C.\",\"France\":\"Paris\",\"Japan\": \"Tokyo.\"}\n",
        "print(capitals)"
      ],
      "metadata": {
        "colab": {
          "base_uri": "https://localhost:8080/"
        },
        "id": "fkWHt-03nj1X",
        "outputId": "202c16b5-679e-4e0c-8c2f-1bd2f519094d"
      },
      "execution_count": null,
      "outputs": [
        {
          "output_type": "stream",
          "name": "stdout",
          "text": [
            "{'USA': 'Washington D.C.', 'France': 'Paris', 'Japan': 'Tokyo.'}\n"
          ]
        }
      ]
    },
    {
      "cell_type": "markdown",
      "source": [
        "b) Add a new country and its capital to the \"capitals\" dictionary. The country is \"Germany,\" and the capital is \"Berlin.\" Print the updated dictionary."
      ],
      "metadata": {
        "id": "dWmqhkUgoc6L"
      }
    },
    {
      "cell_type": "code",
      "source": [
        "capitals={\"USA\":\"Washington D.C.\",\"France\":\"Paris\",\"Japan\": \"Tokyo.\"}\n",
        "capitals[\"Germany\"]=\"Berlin\" # adding new country and its capitals\n",
        "print(capitals)"
      ],
      "metadata": {
        "colab": {
          "base_uri": "https://localhost:8080/"
        },
        "id": "uR3U43E_oj6G",
        "outputId": "4c21c41b-1c3a-4361-fd57-f83912aaa950"
      },
      "execution_count": null,
      "outputs": [
        {
          "output_type": "stream",
          "name": "stdout",
          "text": [
            "{'USA': 'Washington D.C.', 'France': 'Paris', 'Japan': 'Tokyo.', 'Germany': 'Berlin'}\n"
          ]
        }
      ]
    },
    {
      "cell_type": "markdown",
      "source": [
        "c) Check if \"France\" exists in the \"capitals\" dictionary. If it does, print \"France is in the dictionary,\" otherwise, print \"France is not in the dictionary.\""
      ],
      "metadata": {
        "id": "3vBYzDlKpg_E"
      }
    },
    {
      "cell_type": "code",
      "source": [
        "capitals={\"USA\":\"Washington D.C.\",\"France\":\"Paris\",\"Japan\": \"Tokyo.\"}\n",
        "if'France' in capitals:\n",
        "  print(\"France is in the dictionary\")\n",
        "else:\n",
        "  print(\"France is not in the dictionary\")"
      ],
      "metadata": {
        "colab": {
          "base_uri": "https://localhost:8080/"
        },
        "id": "rnopiDrjplNR",
        "outputId": "18b81a1b-41b7-4b8e-a329-4835183fa725"
      },
      "execution_count": null,
      "outputs": [
        {
          "output_type": "stream",
          "name": "stdout",
          "text": [
            "France is in the dictionary\n"
          ]
        }
      ]
    },
    {
      "cell_type": "markdown",
      "source": [
        "**Task 5: Comparison Operators, Logical Operators and If/Else:**\n"
      ],
      "metadata": {
        "id": "RHq0dOdJrXrk"
      }
    },
    {
      "cell_type": "markdown",
      "source": [
        "a) Create a variable called number that takes user input. Write a block of code that checks if the number is positive or negative. If the number is positive only then further check if it is even or odd.\n",
        "Your output should print “The number is even”, or the “The number is odd”.\n",
        "\n"
      ],
      "metadata": {
        "id": "zkEyEq8mryDy"
      }
    },
    {
      "cell_type": "code",
      "source": [
        "number=int(input(\"Please enter the number: \"))\n",
        "if number>0:\n",
        "            if number%2==0:\n",
        "                 print(\"The number is even\")\n",
        "            else:\n",
        "                 print(\"number is odd\")\n",
        "else:\n",
        "    print(\"number is negative\")\n"
      ],
      "metadata": {
        "colab": {
          "base_uri": "https://localhost:8080/"
        },
        "id": "O_qUUrlSrz7P",
        "outputId": "e824185b-ee2d-4dc8-ade5-7716feadf32e"
      },
      "execution_count": null,
      "outputs": [
        {
          "output_type": "stream",
          "name": "stdout",
          "text": [
            "Please enter the number: 9\n",
            "number is odd\n"
          ]
        }
      ]
    },
    {
      "cell_type": "markdown",
      "source": [
        "b) Create two variables called age and GPA. Give them values of your choice. Next, write a block of code to check if a student with this age and GPA is eligible for admission. The following are the conditions:\n",
        "   - The student must be at least 18 years old.\n",
        "   - The student's GPA must be 3.0 or higher on a scale of 4.0.\n",
        "   Your output should print “Eligible for admission” or “Not eligible for admission”.\n"
      ],
      "metadata": {
        "id": "z3-mHIJhE1GU"
      }
    },
    {
      "cell_type": "code",
      "source": [
        "Age=int(input(\"Please Enter Your Age: \"))\n",
        "GPA=float(input(\"Please Enter Your GPA on Scale of 4: \"))\n",
        "if Age>=18 and GPA>=3.0:\n",
        "  print(\"Eligible for admision\")\n",
        "else:\n",
        "  print(\"Not eligible for admission\")"
      ],
      "metadata": {
        "colab": {
          "base_uri": "https://localhost:8080/"
        },
        "id": "n76ZDiyIFPrV",
        "outputId": "47b3687e-1412-4af4-d397-ae0604b14fcb"
      },
      "execution_count": null,
      "outputs": [
        {
          "output_type": "stream",
          "name": "stdout",
          "text": [
            "Please Enter Your Age: 18\n",
            "Please Enter Your GPA on Scale of 4: 2.9\n",
            "Not eligible for admission\n"
          ]
        }
      ]
    },
    {
      "cell_type": "markdown",
      "source": [
        "**Task 6: Strings Manipulation**\n"
      ],
      "metadata": {
        "id": "O4mG216aILjS"
      }
    },
    {
      "cell_type": "markdown",
      "source": [
        "a) Create a string variable containing the following sentence:\n",
        "   \"Python programming is fun and powerful!\"\n",
        "   Write Python code to do the following and print the results:\n",
        "   1. Find the length of the string.\n",
        "   2. Convert the string to uppercase.\n",
        "   3. Replace \"fun\" with \"exciting.\"\n",
        "   4. Check if the string contains the word \"Python.\"\n"
      ],
      "metadata": {
        "id": "yWCUM1LAIS_w"
      }
    },
    {
      "cell_type": "code",
      "source": [
        "String=\"Python programming is fun and powerful!\"\n",
        "print(len(String))\n",
        "print(String.upper())\n",
        "print(String.replace(\"fun\",\"exciting\"))\n",
        "if \"Python\" in String:\n",
        "  print(\"Python is in the string\")\n"
      ],
      "metadata": {
        "colab": {
          "base_uri": "https://localhost:8080/"
        },
        "id": "CkDf9w-oIXmi",
        "outputId": "5cd52cd5-d488-47a5-fa1b-101211d311bc"
      },
      "execution_count": null,
      "outputs": [
        {
          "output_type": "stream",
          "name": "stdout",
          "text": [
            "39\n",
            "PYTHON PROGRAMMING IS FUN AND POWERFUL!\n",
            "Python programming is exciting and powerful!\n",
            "Python is in the string\n"
          ]
        }
      ]
    },
    {
      "cell_type": "code",
      "source": [
        "#5. Remove the word programming from the sentence and print the rest of the sentence.\n",
        "String=\"Python programming is fun and powerful!\"\n",
        "String=String.replace('programming',\"\")\n",
        "print(String)"
      ],
      "metadata": {
        "colab": {
          "base_uri": "https://localhost:8080/"
        },
        "id": "XmqV0jb8f6xn",
        "outputId": "a1c062e7-58fd-4184-fbc8-f8a7f9c0a889"
      },
      "execution_count": null,
      "outputs": [
        {
          "output_type": "stream",
          "name": "stdout",
          "text": [
            "Python  is fun and powerful!\n"
          ]
        }
      ]
    },
    {
      "cell_type": "code",
      "source": [
        " #6. Extract the last word \"powerful!\"\n",
        " String=\"Python programming is fun and powerful!\"\n",
        " print(String[-9:-1:])"
      ],
      "metadata": {
        "colab": {
          "base_uri": "https://localhost:8080/"
        },
        "id": "Thr11OXbgcqK",
        "outputId": "89009ffd-3642-4c28-836a-62809e922857"
      },
      "execution_count": null,
      "outputs": [
        {
          "output_type": "stream",
          "name": "stdout",
          "text": [
            "powerful\n"
          ]
        }
      ]
    },
    {
      "cell_type": "markdown",
      "source": [
        "b) Given the string email = \"user@example.com\", perform the following:\n",
        "•\tExtract the username part (everything before the \"@\" symbol).\n",
        "•\tExtract the domain part (everything after the \"@\" symbol).\n",
        "•\tCheck if the email contains the substring \"example\".\n"
      ],
      "metadata": {
        "id": "VujwsiPjJbNM"
      }
    },
    {
      "cell_type": "code",
      "source": [
        "String=\"user@example.com\"\n",
        "String2=String[0:4]\n",
        "print(String2)\n",
        "String3=String[5:]\n",
        "print(String3)\n",
        "if \"example\" in String:\n",
        "  print(\"example is in the string\")"
      ],
      "metadata": {
        "colab": {
          "base_uri": "https://localhost:8080/"
        },
        "id": "K8dPB84yKSom",
        "outputId": "d0d79b99-c03d-414e-957e-43d97216944d"
      },
      "execution_count": null,
      "outputs": [
        {
          "output_type": "stream",
          "name": "stdout",
          "text": [
            "user\n",
            "example.com\n",
            "example is in the string\n"
          ]
        }
      ]
    },
    {
      "cell_type": "markdown",
      "source": [
        "**Task 7: For Loops and While Loops**"
      ],
      "metadata": {
        "id": "gcrYYgseLx45"
      }
    },
    {
      "cell_type": "markdown",
      "source": [
        "a) Given a list of temperatures for a week, write a program that tells you how many days were above 25°C.  \n",
        "temp_list = [26, 28, 32, 36, 30, 25, 24, 22, 20, 18]\n",
        "for temp > 25, print “Today's temp:  temp, its hot!”\n",
        "for temp <= 25, print “Today's temp:  temp, it is chilly today!”\n"
      ],
      "metadata": {
        "id": "Xd9qtTdxL2Us"
      }
    },
    {
      "cell_type": "code",
      "source": [
        "temp_list = [26, 28, 32, 36, 30, 25, 24, 22, 20, 18]\n",
        "Days_above_25=0\n",
        "for temp in temp_list:\n",
        "  if temp >25:\n",
        "    Days_above_25+=1\n",
        "print(f\"No. of days with temperature above25:{Days_above_25}\")"
      ],
      "metadata": {
        "colab": {
          "base_uri": "https://localhost:8080/"
        },
        "id": "NFW0E9_1cFIg",
        "outputId": "91145ac4-649a-41d5-c677-2c16d2a5735c"
      },
      "execution_count": null,
      "outputs": [
        {
          "output_type": "stream",
          "name": "stdout",
          "text": [
            "No. of days with temperature above25:5\n"
          ]
        }
      ]
    },
    {
      "cell_type": "code",
      "source": [
        "temp_list = [26, 28, 32, 36, 30, 25, 24, 22, 20, 18]\n",
        "for temp in temp_list:\n",
        "  if temp >25:\n",
        "   print(f\"Today's temp: {temp}, its hot!\")\n",
        "  else:\n",
        "   print(f\"Today's temp: {temp}, it is chilly today!\")"
      ],
      "metadata": {
        "colab": {
          "base_uri": "https://localhost:8080/"
        },
        "id": "CmId4WRfbvym",
        "outputId": "5ee0b2ca-760c-46c0-fcbd-75cd15c59a64"
      },
      "execution_count": null,
      "outputs": [
        {
          "output_type": "stream",
          "name": "stdout",
          "text": [
            "Today's temp: 26, its hot!\n",
            "Today's temp: 28, its hot!\n",
            "Today's temp: 32, its hot!\n",
            "Today's temp: 36, its hot!\n",
            "Today's temp: 30, its hot!\n",
            "Today's temp: 25, it is chilly today!\n",
            "Today's temp: 24, it is chilly today!\n",
            "Today's temp: 22, it is chilly today!\n",
            "Today's temp: 20, it is chilly today!\n",
            "Today's temp: 18, it is chilly today!\n"
          ]
        }
      ]
    },
    {
      "cell_type": "markdown",
      "source": [
        "b) Use a for loop and the range() function to display following sequences:\n",
        "1. Add to list: [-20, -17, -14, -11, -8, -5, -2, 1, 4, 7, 10, 13, 16, 19, 22, 25, 28]\n",
        "2. Add to list: [110, 112, 114, 116, 118, 120, 122, 124, 126, 128]\n",
        "3. Print: Multiples of 7 starting from 5 and less than 100.\n",
        "4. Print: The first 20 Fibonacci numbers.\n",
        "Explanation:\n",
        "The Fibonacci sequence is a series of numbers where each number is the sum of the two preceding ones. It starts with 0 and 1:\n",
        "0, 1, 1, 2, 3, 5, 8, 13, 21, 34…….\n",
        "Mathematically, it is defined as:\n",
        "F(n)= F(n−1) + F(n−2)\n"
      ],
      "metadata": {
        "id": "8LwO9wgxR8y2"
      }
    },
    {
      "cell_type": "code",
      "source": [
        "for i in range(-20,31,3):\n",
        "  print(i,end=\",\")\n",
        "#Result: Add to list: [-20, -17, -14, -11, -8, -5, -2, 1, 4, 7, 10, 13, 16, 19, 22, 25, 28]"
      ],
      "metadata": {
        "colab": {
          "base_uri": "https://localhost:8080/"
        },
        "id": "wQ4eJdjcR-C0",
        "outputId": "2bf883dc-a001-4765-98e7-fe1e1cabe8d5"
      },
      "execution_count": null,
      "outputs": [
        {
          "output_type": "stream",
          "name": "stdout",
          "text": [
            "-20,-17,-14,-11,-8,-5,-2,1,4,7,10,13,16,19,22,25,28,"
          ]
        }
      ]
    },
    {
      "cell_type": "markdown",
      "source": [
        "**2.Add to list: [110, 112, 114, 116, 118, 120, 122, 124, 126, 128**]"
      ],
      "metadata": {
        "id": "ArFqEbzAfGdz"
      }
    },
    {
      "cell_type": "code",
      "source": [
        "for i in range(110,130,2):\n",
        "  print(i,end=\",\")\n",
        "# Result Add to list: [110, 112, 114, 116, 118, 120, 122, 124, 126, 128]"
      ],
      "metadata": {
        "colab": {
          "base_uri": "https://localhost:8080/"
        },
        "id": "ZRxGSZyJXQnH",
        "outputId": "ea34c6b5-d381-4973-9ae7-2efc88e3d599"
      },
      "execution_count": null,
      "outputs": [
        {
          "output_type": "stream",
          "name": "stdout",
          "text": [
            "110,112,114,116,118,120,122,124,126,128,"
          ]
        }
      ]
    },
    {
      "cell_type": "markdown",
      "source": [
        "**3.Print: Multiples of 7 starting from 5 and less than 100**"
      ],
      "metadata": {
        "id": "kiJpArQYYomo"
      }
    },
    {
      "cell_type": "code",
      "source": [
        "for i in range(7,100,7):\n",
        " print(i,end=\",\")\n",
        " # Result Print: Multiples of 7 starting from 5 and less than 100.\n"
      ],
      "metadata": {
        "colab": {
          "base_uri": "https://localhost:8080/"
        },
        "id": "YkECRjNoYp4w",
        "outputId": "caba7afd-3ba1-42dc-d0c9-ef13937ff54d"
      },
      "execution_count": null,
      "outputs": [
        {
          "output_type": "stream",
          "name": "stdout",
          "text": [
            "7,14,21,28,35,42,49,56,63,70,77,84,91,98,"
          ]
        }
      ]
    },
    {
      "cell_type": "markdown",
      "source": [
        "**4. Print:The first 20 Fibonacci numbers. FN=[0,1,3,5,8,13,21,34,55,89,144.....]**"
      ],
      "metadata": {
        "id": "VF3grMv3ZDBw"
      }
    },
    {
      "cell_type": "code",
      "source": [
        "past=0\n",
        "present=1\n",
        "print(past,present,sep=\",\",end =',')\n",
        "for i in range(18):\n",
        "    future=past+present\n",
        "    print(future, end =',')\n",
        "    past=present\n",
        "    present=future\n",
        "\n"
      ],
      "metadata": {
        "colab": {
          "base_uri": "https://localhost:8080/"
        },
        "id": "gmxBaVnPawOm",
        "outputId": "cf351617-41f8-40a3-f225-24b47fad8dfd"
      },
      "execution_count": null,
      "outputs": [
        {
          "output_type": "stream",
          "name": "stdout",
          "text": [
            "0,1,1,2,3,5,8,13,21,34,55,89,144,233,377,610,987,1597,2584,4181,"
          ]
        }
      ]
    },
    {
      "cell_type": "markdown",
      "source": [
        "**c) Use nested loops to display the following pattern.**"
      ],
      "metadata": {
        "id": "aekxNTu8K4Fb"
      }
    },
    {
      "cell_type": "code",
      "source": [
        "for i in range(7):\n",
        "    for j in range(i):\n",
        "        print(\"*\", end ='')\n",
        "    print()\n"
      ],
      "metadata": {
        "colab": {
          "base_uri": "https://localhost:8080/"
        },
        "id": "RTTtFmgpfrSr",
        "outputId": "f99e8b2d-9cbf-4832-f080-a84341f95b64"
      },
      "execution_count": null,
      "outputs": [
        {
          "output_type": "stream",
          "name": "stdout",
          "text": [
            "\n",
            "*\n",
            "**\n",
            "***\n",
            "****\n",
            "*****\n",
            "******\n"
          ]
        }
      ]
    },
    {
      "cell_type": "markdown",
      "source": [
        "d) Write a nested loop through the given list to find pair of numbers that sum to a given value.\n",
        "numbers = [6, 8, 2, 4, 6, 10]\n",
        "target_sum = 12\n",
        "Save and print the pairs in tuples."
      ],
      "metadata": {
        "id": "xOyaP97zhsGX"
      }
    },
    {
      "cell_type": "code",
      "source": [
        "numbers=[6,8,2,4,6,10]\n",
        "target=12\n",
        "for i in range(len(numbers)):\n",
        "  for j in range(i+1,len(numbers)):\n",
        "    if numbers[i]+numbers[j]==12:\n",
        "      print((numbers[i],numbers[j]))\n"
      ],
      "metadata": {
        "colab": {
          "base_uri": "https://localhost:8080/"
        },
        "id": "Hoe9qc-Lh2_g",
        "outputId": "f4342833-fa74-4ec7-a853-53a38420fee1"
      },
      "execution_count": null,
      "outputs": [
        {
          "output_type": "stream",
          "name": "stdout",
          "text": [
            "(6, 6)\n",
            "(8, 4)\n",
            "(2, 10)\n"
          ]
        }
      ]
    },
    {
      "cell_type": "markdown",
      "source": [
        "**e**) A student obtains the following grades in his courses. Make a list of his scores and write a loop to sum up his total score. Also, calculate his percentage.\n",
        "\n",
        "Courses                 Scores out of 100\n",
        "Mathematics                    78\n",
        "Programming                   82\n",
        "Biology                               65\n",
        "Physics                               80\n",
        "Chemistry                          50\n"
      ],
      "metadata": {
        "id": "A2K6HNHQlnN5"
      }
    },
    {
      "cell_type": "code",
      "source": [
        "grades=[78,82,65,80,50]\n",
        "for i in range(len(grades)):\n",
        "  total=sum(grades)\n",
        "print(total)\n",
        "print(f\"percentage={(total/500)*100}\")\n",
        "\n"
      ],
      "metadata": {
        "colab": {
          "base_uri": "https://localhost:8080/"
        },
        "id": "k91l_-vXloaS",
        "outputId": "aed78776-356b-4d04-b382-33f8646314cb"
      },
      "execution_count": null,
      "outputs": [
        {
          "output_type": "stream",
          "name": "stdout",
          "text": [
            "355\n",
            "percentage=71.0\n"
          ]
        }
      ]
    },
    {
      "cell_type": "markdown",
      "source": [
        "Next, use python dictionary to assign grades to the student according to the following table:\n",
        "\n",
        "Percentage   Grade\n",
        "90-100                 A\n",
        "80-89                   B+\n",
        "60-79                   B\n",
        "40-59                   C\n",
        "39 and below     F\n"
      ],
      "metadata": {
        "id": "IzjMHHt1oVna"
      }
    },
    {
      "cell_type": "code",
      "source": [
        "#Solution with conditional Statements\n",
        "percentage=71.0\n",
        "Grades_Dic={\"A\":90,\"B+\":80,\"B\":60,\"C\":40,\"F\":39}\n",
        "if percentage>=list(Grades_Dic.values())[0]:\n",
        "    print(\"A\")\n",
        "elif percentage>=list(Grades_Dic.values())[1]:\n",
        "    print(\"B+\")\n",
        "elif percentage>=list(Grades_Dic.values())[2]:\n",
        "    print(\"B\")\n",
        "elif percentage>=list(Grades_Dic.values())[3]:\n",
        "    print(\"C\")\n",
        "elif percentage<=list(Grades_Dic.values())[4]:\n",
        "    print(\"F\")"
      ],
      "metadata": {
        "colab": {
          "base_uri": "https://localhost:8080/"
        },
        "id": "QbLp1Y2VOZVr",
        "outputId": "89e3bb14-3450-44ab-870f-64bb37e028ac"
      },
      "execution_count": null,
      "outputs": [
        {
          "output_type": "stream",
          "name": "stdout",
          "text": [
            "B\n"
          ]
        }
      ]
    },
    {
      "cell_type": "markdown",
      "source": [
        "Solution with For Loop"
      ],
      "metadata": {
        "id": "Wvxmy40fe4Ru"
      }
    },
    {
      "cell_type": "code",
      "source": [
        "Grades_Dic = {\"A\": 90, \"B+\": 80, \"B\": 60, \"C\": 40, \"F\": 0} # Adjusted \"F\" to cover all values below 40\n",
        "percentage = 71.0 # Determine the grade based on the percentage\n",
        "grade=\"F\"\n",
        "for key,value in Grades_Dic.items():\n",
        "    if percentage >= value:\n",
        "        grade = key\n",
        "        break\n",
        "print(f\"The grade for a percentage of {percentage} is: {grade}\")\n"
      ],
      "metadata": {
        "colab": {
          "base_uri": "https://localhost:8080/"
        },
        "id": "TXdcPTQWaHIx",
        "outputId": "b3b73d43-ee7a-49d7-f75f-9fce9cec3a3e"
      },
      "execution_count": null,
      "outputs": [
        {
          "output_type": "stream",
          "name": "stdout",
          "text": [
            "The grade for a percentage of 71.0 is: B\n"
          ]
        }
      ]
    },
    {
      "cell_type": "markdown",
      "source": [
        "**Task 8: Functions**:"
      ],
      "metadata": {
        "id": "6xJS27zUXVxV"
      }
    },
    {
      "cell_type": "markdown",
      "source": [
        "a) Write a function called calculate_area that takes the length and width of a rectangle and returns its area."
      ],
      "metadata": {
        "id": "ReZrBXNIQU7G"
      }
    },
    {
      "cell_type": "code",
      "source": [
        "def calculate_area(width,length):\n",
        " area=length*width\n",
        " return area"
      ],
      "metadata": {
        "id": "PkLQgTxGQRwN"
      },
      "execution_count": null,
      "outputs": []
    },
    {
      "cell_type": "markdown",
      "source": [],
      "metadata": {
        "id": "aq5U6lD_yCSQ"
      }
    },
    {
      "cell_type": "code",
      "source": [
        "calculate_area(5,8)"
      ],
      "metadata": {
        "colab": {
          "base_uri": "https://localhost:8080/"
        },
        "id": "H2hZ7scmRGU7",
        "outputId": "90ba905c-790f-48a7-eb82-cd9415e9a893"
      },
      "execution_count": null,
      "outputs": [
        {
          "output_type": "execute_result",
          "data": {
            "text/plain": [
              "40"
            ]
          },
          "metadata": {},
          "execution_count": 35
        }
      ]
    },
    {
      "cell_type": "markdown",
      "source": [
        "b) Write a Python function to find the max of three numbers entered by the user."
      ],
      "metadata": {
        "id": "dTUc_utGRREH"
      }
    },
    {
      "cell_type": "code",
      "source": [
        "def Max_finder(number1,number2,number3):\n",
        "    if number1 >= number2 and number1 >= number3:\n",
        "       return number1\n",
        "    elif number2 >= number1 and number2 >= number3:\n",
        "       return number2\n",
        "    else: return number3\n"
      ],
      "metadata": {
        "id": "3AcjMRD_RSSc"
      },
      "execution_count": null,
      "outputs": []
    },
    {
      "cell_type": "code",
      "source": [
        "Max_finder(70,69,78)\n"
      ],
      "metadata": {
        "colab": {
          "base_uri": "https://localhost:8080/"
        },
        "id": "YdYjx2KWTwvL",
        "outputId": "e95c9fbf-83b6-45d6-a3eb-0b89277734c6"
      },
      "execution_count": null,
      "outputs": [
        {
          "output_type": "execute_result",
          "data": {
            "text/plain": [
              "78"
            ]
          },
          "metadata": {},
          "execution_count": 27
        }
      ]
    },
    {
      "cell_type": "markdown",
      "source": [
        "c) Create a basic calculator program that can perform addition, subtraction, multiplication, and division operations. Ask the user to input 2 numbers and the operation they want to perform. Print result accordingly."
      ],
      "metadata": {
        "id": "wnpgtgRKUQio"
      }
    },
    {
      "cell_type": "code",
      "source": [
        "def basic_calculator(): # Ask the user to input two numbers\n",
        "    num1 = float(input(\"Enter the first number: \"))\n",
        "    num2 = float(input(\"Enter the second number: \"))\n",
        "    # Ask the user to input the operation they want to perform\n",
        "    O = str(input(\"Enter the operation (+, -, *, /): \")) # Perform the operation and print the result\n",
        "    if  O == '+':\n",
        "        result = num1 + num2\n",
        "        print(f\"The result of {num1} + {num2} is: {result}\")\n",
        "    elif  O == '-':\n",
        "        result = num1 - num2\n",
        "        print(f\"The result of {num1} - {num2} is: {result}\")\n",
        "    elif  O == '*':\n",
        "        result = num1 * num2\n",
        "        print(f\"The result of {num1} * {num2} is: {result}\")\n",
        "    elif  O == '/':\n",
        "        if num2 != 0:\n",
        "            result = num1 / num2\n",
        "            print(f\"The result of {num1} / {num2} is: {result}\")\n",
        "        else:\n",
        "            print(\"Division by zero is not allowed.\")\n",
        "\n",
        "basic_calculator() # Call the function to execute it"
      ],
      "metadata": {
        "colab": {
          "base_uri": "https://localhost:8080/"
        },
        "id": "80Qk_aI01GJP",
        "outputId": "4a5def0b-746a-4607-d2c3-f9ff78bd90c1"
      },
      "execution_count": null,
      "outputs": [
        {
          "output_type": "stream",
          "name": "stdout",
          "text": [
            "Enter the first number: 67\n",
            "Enter the second number: 7\n",
            "Enter the operation (+, -, *, /): /\n",
            "The result of 67.0 / 7.0 is: 9.571428571428571\n"
          ]
        }
      ]
    }
  ]
}